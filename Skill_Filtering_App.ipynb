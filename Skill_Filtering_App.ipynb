{
  "nbformat": 4,
  "nbformat_minor": 0,
  "metadata": {
    "colab": {
      "provenance": [],
      "authorship_tag": "ABX9TyOXP7moQV5TSlKLxOnGdW33",
      "include_colab_link": true
    },
    "kernelspec": {
      "name": "python3",
      "display_name": "Python 3"
    },
    "language_info": {
      "name": "python"
    }
  },
  "cells": [
    {
      "cell_type": "markdown",
      "metadata": {
        "id": "view-in-github",
        "colab_type": "text"
      },
      "source": [
        "<a href=\"https://colab.research.google.com/github/KishorAlagappan/multifunctional-nlp-toolkit/blob/main/Skill_Filtering_App.ipynb\" target=\"_parent\"><img src=\"https://colab.research.google.com/assets/colab-badge.svg\" alt=\"Open In Colab\"/></a>"
      ]
    },
    {
      "cell_type": "markdown",
      "source": [
        "NLP - Natural Language Processing\n",
        "\n",
        "* Welcome to the Multifunctional NLP Toolkit – a complete Natural Language Processing solution that simplifies language-related tasks.\n",
        "* This project includes three core functions: *translation to various languages, automatic spelling correction, and skill-based resume filtering.*\n",
        "* Delve into the world of NLP and experience the convenience of seamless communication and information handling."
      ],
      "metadata": {
        "id": "vojAmxn2CdhZ"
      }
    },
    {
      "cell_type": "markdown",
      "source": [
        "3. Skill Filtering App"
      ],
      "metadata": {
        "id": "vd4SSpeiCe7r"
      }
    },
    {
      "cell_type": "markdown",
      "source": [
        "Installation and Import"
      ],
      "metadata": {
        "id": "HLvN6-pzCoYM"
      }
    },
    {
      "cell_type": "code",
      "source": [
        "!pip install PyPDF2"
      ],
      "metadata": {
        "colab": {
          "base_uri": "https://localhost:8080/"
        },
        "id": "z9fIfNyzC3Eh",
        "outputId": "012437ed-52a3-43e4-d146-ade48cb949ea"
      },
      "execution_count": 2,
      "outputs": [
        {
          "output_type": "stream",
          "name": "stdout",
          "text": [
            "Collecting PyPDF2\n",
            "  Downloading pypdf2-3.0.1-py3-none-any.whl (232 kB)\n",
            "\u001b[?25l     \u001b[90m━━━━━━━━━━━━━━━━━━━━━━━━━━━━━━━━━━━━━━━━\u001b[0m \u001b[32m0.0/232.6 kB\u001b[0m \u001b[31m?\u001b[0m eta \u001b[36m-:--:--\u001b[0m\r\u001b[2K     \u001b[91m━━━━━━━━━━\u001b[0m\u001b[91m╸\u001b[0m\u001b[90m━━━━━━━━━━━━━━━━━━━━━━━━━━━━━\u001b[0m \u001b[32m61.4/232.6 kB\u001b[0m \u001b[31m1.8 MB/s\u001b[0m eta \u001b[36m0:00:01\u001b[0m\r\u001b[2K     \u001b[90m━━━━━━━━━━━━━━━━━━━━━━━━━━━━━━━━━━━━━━━\u001b[0m \u001b[32m232.6/232.6 kB\u001b[0m \u001b[31m3.8 MB/s\u001b[0m eta \u001b[36m0:00:00\u001b[0m\n",
            "\u001b[?25hInstalling collected packages: PyPDF2\n",
            "Successfully installed PyPDF2-3.0.1\n"
          ]
        }
      ]
    },
    {
      "cell_type": "code",
      "execution_count": 3,
      "metadata": {
        "id": "6FBU64SyCTWR"
      },
      "outputs": [],
      "source": [
        "import re\n",
        "import pandas as pd\n",
        "import PyPDF2"
      ]
    },
    {
      "cell_type": "code",
      "source": [
        "def read_resume():\n",
        "    file_name = input('Enter the file location with name: ')\n",
        "    pdf_open = open(file_name, 'rb')\n",
        "    pdf_read = PyPDF2.PdfReader(pdf_open)\n",
        "    npdf = len(pdf_read.pages)\n",
        "\n",
        "    global content_pdf\n",
        "    content_pdf = ''\n",
        "    for page in range(npdf):\n",
        "        content_pdf += (pdf_read.pages[page]).extract_text().lower()\n",
        "    content_pdf = re.sub('\\n', '', content_pdf)\n",
        "    content_pdf = re.sub(' ', '', content_pdf)\n",
        "    return content_pdf\n",
        "\n",
        "\n",
        "def skill_search():\n",
        "    print('Enter each skill with a comma(,)')\n",
        "    search_keywords = input('Enter the skill to be searched: \\n')\n",
        "    search_keywords = re.sub(' ', '', search_keywords).lower()\n",
        "    skills = re.split(',', search_keywords)\n",
        "    df_skill = pd.DataFrame(skills, columns=['skill'])\n",
        "\n",
        "    match_list = []\n",
        "    for i in range(len(skills)):\n",
        "        si = re.findall(skills[i], content_pdf)\n",
        "        if len(si) == 0:\n",
        "            match_list.append('Not Found')\n",
        "        else:\n",
        "            match_list.append('Found')\n",
        "    df_match = pd.DataFrame(match_list, columns=['match'])\n",
        "\n",
        "    res = pd.concat([df_skill, df_match], axis=1)\n",
        "\n",
        "    total_skill = len(res)\n",
        "    found = len(res[res['match'] == 'Found'])\n",
        "    info = f'{found} skill found out of {total_skill} skills'\n",
        "\n",
        "    print(res)\n",
        "    print(info)\n",
        "\n",
        "if __name__=='__main__':\n",
        "    read_resume()\n",
        "    skill_search()"
      ],
      "metadata": {
        "colab": {
          "base_uri": "https://localhost:8080/"
        },
        "id": "P4zUnVdSDGfx",
        "outputId": "e42d64c1-f89b-44db-bfcb-e2fa9d4e3d1f"
      },
      "execution_count": 7,
      "outputs": [
        {
          "output_type": "stream",
          "name": "stdout",
          "text": [
            "Enter the file location with name: /content/KISHOR_Data Scientist.pdf\n",
            "Enter each skill with a comma(,)\n",
            "Enter the skill to be searched: \n",
            "Python\n",
            "    skill  match\n",
            "0  python  Found\n",
            "1 skill found out of 1 skills\n"
          ]
        }
      ]
    }
  ]
}